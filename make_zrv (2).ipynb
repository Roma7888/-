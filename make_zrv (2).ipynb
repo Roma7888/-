{
 "cells": [
  {
   "cell_type": "code",
   "execution_count": 1,
   "id": "31d70217-dbd8-4afb-8404-451a7ae0e7fa",
   "metadata": {},
   "outputs": [
    {
     "name": "stdout",
     "output_type": "stream",
     "text": [
      "All imported\n"
     ]
    }
   ],
   "source": [
    "import pandas as pd\n",
    "import geopandas as gpd\n",
    "import math\n",
    "from shapely.geometry import Point, Polygon\n",
    "import tkinter as tk\n",
    "from tkinter import filedialog\n",
    "print('All imported')"
   ]
  },
  {
   "cell_type": "markdown",
   "id": "bd56f23f-fbe5-4dc1-ba56-238b88880f17",
   "metadata": {},
   "source": [
    "функция вызова всплывающего окна"
   ]
  },
  {
   "cell_type": "code",
   "execution_count": 2,
   "id": "46260f6d-f7fc-4ec7-bdec-683fb9e50d4f",
   "metadata": {},
   "outputs": [],
   "source": [
    "def get_working_directory():\n",
    "    root = tk.Tk()\n",
    "    root.title(\"Выбор рабочей папки\")\n",
    "    root.geometry(\"500x150\")\n",
    "    root.resizable(False, False)\n",
    "    \n",
    "    folder_path = tk.StringVar()\n",
    "    \n",
    "    def browse_folder():\n",
    "        folder = filedialog.askdirectory()\n",
    "        if folder:\n",
    "            folder_path.set(folder)\n",
    "            entry.delete(0, tk.END)\n",
    "            entry.insert(0, folder)\n",
    "    \n",
    "    def submit():\n",
    "        root.destroy()\n",
    "    \n",
    "    tk.Label(root, text=\"Введите рабочую папку:\", font=(\"Arial\", 12)).pack(pady=(10, 5))\n",
    "    \n",
    "    input_frame = tk.Frame(root)\n",
    "    input_frame.pack(fill=tk.X, padx=20, pady=5)\n",
    "    \n",
    "    entry = tk.Entry(input_frame, textvariable=folder_path, font=(\"Arial\", 12))\n",
    "    entry.pack(side=tk.LEFT, fill=tk.X, expand=True, padx=(0, 5))\n",
    "    \n",
    "    browse_btn = tk.Button(input_frame, text=\"Обзор\", command=browse_folder, width=10)\n",
    "    browse_btn.pack(side=tk.RIGHT)\n",
    "    \n",
    "    submit_btn = tk.Button(root, text=\"OK\", command=submit, width=15, font=(\"Arial\", 10))\n",
    "    submit_btn.pack(pady=10)\n",
    "    \n",
    "    root.mainloop()\n",
    "    return folder_path.get()"
   ]
  },
  {
   "cell_type": "markdown",
   "id": "eb658852-fd00-464d-a773-89eaa554e5a0",
   "metadata": {},
   "source": [
    "запуск всплывающего диалогового окна"
   ]
  },
  {
   "cell_type": "code",
   "execution_count": 3,
   "id": "b00f039a-7cdd-4f49-b80d-37e1bbe8dd17",
   "metadata": {},
   "outputs": [],
   "source": [
    "if __name__ == \"__main__\":\n",
    "    papka = get_working_directory()"
   ]
  },
  {
   "cell_type": "markdown",
   "id": "5e573597-3043-4e25-ab81-2871d97a746e",
   "metadata": {},
   "source": [
    "Функция calculate_radius_of_zrv(): min_delta_angle = минимальный угол зоны радиовидимости (градусы); alt = высота орбиты КА над ППИ (км); radius_of_earth -- радиус Земли (базовое значение = 6371.032 км)"
   ]
  },
  {
   "cell_type": "code",
   "execution_count": 4,
   "id": "b7691002-e630-4280-8981-5be275900927",
   "metadata": {},
   "outputs": [],
   "source": [
    "def calculate_radius_of_zrv(min_delta_angle=5, alt=518833, radius_of_earth=6371032):\n",
    "    angle_of_zone_of_radiovision = math.acos((math.cos(min_delta_angle * (math.pi / 180)) * radius_of_earth) / (alt + radius_of_earth)) - (min_delta_angle * (math.pi / 180))\n",
    "    return angle_of_zone_of_radiovision * radius_of_earth"
   ]
  },
  {
   "cell_type": "code",
   "execution_count": 5,
   "id": "26e41d28-dd7f-4339-b62b-e6cbe9cff8fb",
   "metadata": {},
   "outputs": [],
   "source": [
    "def genaral_zrv(ppi_id, file_input, file_output):\n",
    "    PPI = pd.read_csv(file_input)\n",
    "    ppi_gdf = gpd.GeoDataFrame(PPI, geometry=gpd.points_from_xy(PPI.Longitude, PPI.Latitude))\n",
    "    for id, row in ppi_gdf.iterrows():\n",
    "        if id not in ppi_id:\n",
    "            ppi_gdf.drop(axis=0, index=id, inplace=True)\n",
    "    ppi_gdf.crs=\"EPSG:4326\"\n",
    "    ppi_converted = ppi_gdf.to_crs(epsg=3043)\n",
    "    ppi_converted[\"geometry\"] = ppi_converted.buffer(calculate_radius_of_zrv())\n",
    "    ppi_result = ppi_converted.to_crs(epsg=4326)\n",
    "    ppi_result.to_file(file_output + '//GENERAL_PPI.shp')"
   ]
  },
  {
   "cell_type": "markdown",
   "id": "b1a838ba-99aa-486e-941e-0d171888c8d6",
   "metadata": {},
   "source": [
    "Функция make_zrv(): file_input -- абсолютный путь к файлу с ППИ; file_output = абсолютный путь к выходному шейп файлу; ppi_id = массив идентификаторов ППИ в исходном файле, которые нужны для работы [0-11]"
   ]
  },
  {
   "cell_type": "code",
   "execution_count": 6,
   "id": "9d290b25-8b3c-4d9e-a4c4-f30f5678d13e",
   "metadata": {},
   "outputs": [],
   "source": [
    "def make_zrv(ppi_id=[], file_input=papka + '//ppi.csv', file_output=papka):\n",
    "    PPI = pd.read_csv(file_input)\n",
    "    ppi_gdf = gpd.GeoDataFrame(PPI, geometry=gpd.points_from_xy(PPI.Longitude, PPI.Latitude))\n",
    "    ppi_gdf.crs = \"EPSG:4326\"\n",
    "    ppi_gdf.to_file(file_output + '//PPI_POINTS.shp')\n",
    "    ppi_converted = ppi_gdf.to_crs(epsg=3043)\n",
    "    ppi_converted[\"geometry\"] = ppi_converted.buffer(calculate_radius_of_zrv())\n",
    "    ppi_result = ppi_converted.to_crs(epsg=4326)\n",
    "    genaral_zrv(ppi_id=ppi_id, file_input=file_input, file_output=file_output)\n",
    "    step = 0\n",
    "    for i in range(len(ppi_result)):\n",
    "        ppi_table = ppi_result\n",
    "        for id, row in ppi_table.iterrows():\n",
    "            if id != i:\n",
    "                ppi_table = ppi_table.drop(axis=0, index=id, inplace=False)\n",
    "        if i in ppi_id:\n",
    "            ppi_table.to_file(file_output + '//test_ppi' + str(step) + '.shp')\n",
    "        step += 1"
   ]
  },
  {
   "cell_type": "code",
   "execution_count": 7,
   "id": "1d549eff-e2cc-423f-b94c-22f71729076f",
   "metadata": {},
   "outputs": [],
   "source": [
    "make_zrv(ppi_id=list(range(12)))\n",
    "# make_zrv([0, 1, 2, 3, 10, 11])"
   ]
  },
  {
   "cell_type": "code",
   "execution_count": 8,
   "id": "3a96cc21-c750-4193-9614-74d770ea87f5",
   "metadata": {},
   "outputs": [],
   "source": [
    "def intersect_subsatellite_points_with_zrv(input_zrv=papka + '//GENERAL_PPI.shp', input_subsatellite_points=papka + '//subsatellite_points.shp'):    \n",
    "    zrv_gdf = gpd.read_file(input_zrv)\n",
    "    step = 0\n",
    "    previous_state = 0\n",
    "    ppi_session = []\n",
    "    start_session = []\n",
    "    end_session = []\n",
    "    for id, row in zrv_gdf.iterrows():\n",
    "        subsat_points_gdf = gpd.read_file(input_subsatellite_points)\n",
    "        polygon_coordinates = row[\"geometry\"]\n",
    "        polygon = Polygon(polygon_coordinates)\n",
    "        # start_gdf = gpd.GeoDataFrame()\n",
    "        # end_gdf = gpd.GeoDataFrame()\n",
    "        for id_point, subs_point in subsat_points_gdf.iterrows():\n",
    "            x = float(subs_point.geometry.x)\n",
    "            y = float(subs_point.geometry.y)\n",
    "            point = Point(x, y)\n",
    "            current_state = point.within(polygon)\n",
    "            if current_state == 0 and previous_state == 0:\n",
    "                subsat_points_gdf.drop(axis=0, index=id_point, inplace=True)\n",
    "            elif current_state == 1 and previous_state == 0:\n",
    "                start_session.append(subs_point[\"TIME\"])\n",
    "                ppi_session.append(id)\n",
    "            elif current_state == 0 and previous_state == 1:\n",
    "                end_session.append(subs_point[\"TIME\"])\n",
    "            previous_state = current_state\n",
    "        if not subsat_points_gdf.empty:\n",
    "            subsat_points_gdf.to_file(papka + '//intersected' + str(step) + '.shp')\n",
    "            print('saved')\n",
    "        step += 1\n",
    "    session_data = dict(PPI=ppi_session, START=start_session, END=end_session)\n",
    "    session_df = pd.DataFrame(session_data)\n",
    "    session_df.to_excel(papka + '//SESSION_PPI.xlsx', index=False)"
   ]
  },
  {
   "cell_type": "code",
   "execution_count": 9,
   "id": "8d25b8a1-be8d-4848-a9f1-8e21b6a8d667",
   "metadata": {},
   "outputs": [
    {
     "name": "stdout",
     "output_type": "stream",
     "text": [
      "saved\n",
      "saved\n"
     ]
    }
   ],
   "source": [
    "intersect_subsatellite_points_with_zrv()"
   ]
  },
  {
   "cell_type": "code",
   "execution_count": null,
   "id": "8bae72be-9eb0-444e-b46d-8cf11a11f70d",
   "metadata": {},
   "outputs": [],
   "source": []
  }
 ],
 "metadata": {
  "kernelspec": {
   "display_name": "Python 3 (ipykernel)",
   "language": "python",
   "name": "python3"
  },
  "language_info": {
   "codemirror_mode": {
    "name": "ipython",
    "version": 3
   },
   "file_extension": ".py",
   "mimetype": "text/x-python",
   "name": "python",
   "nbconvert_exporter": "python",
   "pygments_lexer": "ipython3",
   "version": "3.12.3"
  }
 },
 "nbformat": 4,
 "nbformat_minor": 5
}
